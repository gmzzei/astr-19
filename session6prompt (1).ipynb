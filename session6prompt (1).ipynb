{
 "cells": [
  {
   "cell_type": "markdown",
   "id": "b62d3fa7-824c-4ac5-a588-90088131d219",
   "metadata": {},
   "source": [
    "# Session 6 Prompt"
   ]
  },
  {
   "cell_type": "code",
   "execution_count": null,
   "id": "439e61aa-6a41-473f-b698-5f349a141a82",
   "metadata": {},
   "outputs": [],
   "source": [
    "# Create a Jupyter Notebook where, in separate cells, you define functions that return sin(x) and cos(x).  \n",
    "# Use Markdown cells to comment your Notebook, and describe what each function does. \n",
    "# Create a third Python cell that will tabulate sin(x) and cos(x) using these previously defined functions vs. x, \n",
    "        # where x is tabulated between 0 and 2 with a thousand entries. \n",
    "# Write a fourth Python cell that will use a for loop to print out the first 10 values of x, sin(x), and cos(x) in columns."
   ]
  },
  {
   "cell_type": "markdown",
   "id": "d86a7023-af57-4de1-81fb-bd449ade6c6e",
   "metadata": {},
   "source": [
    "### The function sin(x):"
   ]
  },
  {
   "cell_type": "code",
   "execution_count": null,
   "id": "ce8a260e-3e4c-4442-8d05-c9742c277fcb",
   "metadata": {},
   "outputs": [],
   "source": [
    "import numpy as np\n",
    "from tabulate import tabulate"
   ]
  },
  {
   "cell_type": "code",
   "execution_count": null,
   "id": "81e769f3-43a1-4624-9cf4-cc3483a30151",
   "metadata": {},
   "outputs": [],
   "source": [
    "def sine(x):\n",
    "    return np.sin(x)"
   ]
  },
  {
   "cell_type": "markdown",
   "id": "44aa4f34-0e94-4daf-a22b-f311c64c2fb5",
   "metadata": {},
   "source": [
    "### The function cos(x):"
   ]
  },
  {
   "cell_type": "code",
   "execution_count": null,
   "id": "d133c717-0589-4dfe-84e5-bf58e31bbb98",
   "metadata": {},
   "outputs": [],
   "source": [
    "def cosine(x):\n",
    "    return np.cos(x)"
   ]
  },
  {
   "cell_type": "markdown",
   "id": "6c43df04-e7d8-4c44-a319-5019e45a2c8f",
   "metadata": {},
   "source": [
    "### A table of the functions sin(x) and cos(x) vs. x, where x is 1000 numbers between 0 and 2:"
   ]
  },
  {
   "cell_type": "code",
   "execution_count": null,
   "id": "c8b6b4cc-8df7-4606-8ece-6fb5417b0d83",
   "metadata": {},
   "outputs": [],
   "source": [
    "def sincos():\n",
    "    x = np.linspace(0, 2, 1000)\n",
    "    y = sine(x)\n",
    "    z = cosine(x)\n",
    "    \n",
    "    data_table = [(a, b, c) for a, b, c in zip(x, y, z)]\n",
    "    headers = [\"x\", \"sin(x)\", \"cos(x)\"]\n",
    "    print(tabulate(data_table, tablefmt=\"grid\", headers=headers, floatfmt=\".3f\"))\n",
    "\n",
    "\n",
    "\n",
    "if __name__ == \"__main__\":\n",
    "    sincos()"
   ]
  },
  {
   "cell_type": "markdown",
   "id": "32bd5e3d-3cd9-46ae-9557-080ac9ee4908",
   "metadata": {},
   "source": [
    "### Using a for loop to print 10 rows of the table for the first 10 values of x:"
   ]
  },
  {
   "cell_type": "code",
   "execution_count": null,
   "id": "8770da04-b70d-474d-93eb-f9e03ceb4076",
   "metadata": {},
   "outputs": [],
   "source": [
    "x = np.linspace(0, 2, 1000)\n",
    "y = sine(x)\n",
    "z = cosine(x)\n",
    "    \n",
    "data_table = [(a, b, c) for a, b, c in zip(x, y, z)]\n",
    "headers = [\"x\", \"sin(x)\", \"cos(x)\"]\n",
    "\n",
    "short = []\n",
    "for x in range(10):\n",
    "    short.append(data_table[x])\n",
    "    if len(short) == 10:\n",
    "        print(tabulate(short, tablefmt=\"grid\", headers=headers, floatfmt=\".3f\"))"
   ]
  }
 ],
 "metadata": {
  "kernelspec": {
   "display_name": "Python 3 (ipykernel)",
   "language": "python",
   "name": "python3"
  },
  "language_info": {
   "codemirror_mode": {
    "name": "ipython",
    "version": 3
   },
   "file_extension": ".py",
   "mimetype": "text/x-python",
   "name": "python",
   "nbconvert_exporter": "python",
   "pygments_lexer": "ipython3",
   "version": "3.12.1"
  }
 },
 "nbformat": 4,
 "nbformat_minor": 5
}
