{
 "cells": [
  {
   "cell_type": "markdown",
   "id": "8fe16638-79c8-40ea-9d50-63adc75575f5",
   "metadata": {},
   "source": [
    "# <span style = \"color:green;\">**ASTR-19 Final Project**</span> (Part 1)"
   ]
  },
  {
   "cell_type": "markdown",
   "id": "fad5d2f1-51b8-44be-83a8-6658ff2a0787",
   "metadata": {},
   "source": [
    "### Display an image from a FITS file"
   ]
  },
  {
   "cell_type": "markdown",
   "id": "78d75ec6-a2b3-4f37-8f08-b7d3f2a4bd10",
   "metadata": {},
   "source": [
    "Read in numpy and sep:"
   ]
  },
  {
   "cell_type": "code",
   "execution_count": 6,
   "id": "469174a1-7e19-4dd3-bda1-fb147ffff1e0",
   "metadata": {},
   "outputs": [],
   "source": [
    "import numpy as np\n",
    "import sep"
   ]
  },
  {
   "cell_type": "markdown",
   "id": "78edb841-38cb-4c24-bc98-7c4edce56498",
   "metadata": {},
   "source": [
    "Read in astropy, matplotlib, and import rcParams (which allows you to style your plots):"
   ]
  },
  {
   "cell_type": "code",
   "execution_count": 7,
   "id": "34b9e58f-d3ea-4c9c-b5da-eb5a6b1e8382",
   "metadata": {},
   "outputs": [],
   "source": [
    "from astropy.io import fits\n",
    "import matplotlib.pyplot as plt\n",
    "from matplotlib import rcParams\n",
    "%matplotlib inline\n",
    "\n",
    "rcParams['figure.figsize'] = [10, 8]      # set all figure sizes to (10,8)"
   ]
  },
  {
   "cell_type": "markdown",
   "id": "fc32e56e-60cc-4d62-ae9b-5531a1b3d0fa",
   "metadata": {},
   "source": [
    "Read the image into a standard 2d numpy array:"
   ]
  },
  {
   "cell_type": "code",
   "execution_count": 8,
   "id": "a16d460b-bd18-4a29-85f8-3cf9be2d2a94",
   "metadata": {},
   "outputs": [],
   "source": [
    "data = fits.open('image.fits')"
   ]
  },
  {
   "cell_type": "markdown",
   "id": "d0199867-966d-46db-9bc1-565e1df175ba",
   "metadata": {},
   "source": [
    "Now, we need to find the mean and standard deviation of the data. These values can then be used for the color scale of our image to visualize the range of data points, creating an image. The grayscale will range from (mean - std) = black, to (mean + std) = white."
   ]
  },
  {
   "cell_type": "code",
   "execution_count": 9,
   "id": "aa7fb1e7-7b9c-4d76-ac59-4fea194ad9e9",
   "metadata": {},
   "outputs": [
    {
     "ename": "TypeError",
     "evalue": "unsupported operand type(s) for /: 'PrimaryHDU' and 'int'",
     "output_type": "error",
     "traceback": [
      "\u001b[0;31m---------------------------------------------------------------------------\u001b[0m",
      "\u001b[0;31mTypeError\u001b[0m                                 Traceback (most recent call last)",
      "Cell \u001b[0;32mIn[9], line 1\u001b[0m\n\u001b[0;32m----> 1\u001b[0m m, s \u001b[38;5;241m=\u001b[39m \u001b[43mnp\u001b[49m\u001b[38;5;241;43m.\u001b[39;49m\u001b[43mmean\u001b[49m\u001b[43m(\u001b[49m\u001b[43mdata\u001b[49m\u001b[43m)\u001b[49m, np\u001b[38;5;241m.\u001b[39mstd(data)\n\u001b[1;32m      2\u001b[0m plt\u001b[38;5;241m.\u001b[39mimshow(data, interpolation \u001b[38;5;241m=\u001b[39m \u001b[38;5;124m'\u001b[39m\u001b[38;5;124mnearest\u001b[39m\u001b[38;5;124m'\u001b[39m, cmap \u001b[38;5;241m=\u001b[39m \u001b[38;5;124m'\u001b[39m\u001b[38;5;124mgray\u001b[39m\u001b[38;5;124m'\u001b[39m, vmin\u001b[38;5;241m=\u001b[39mm\u001b[38;5;241m-\u001b[39ms, vmax\u001b[38;5;241m=\u001b[39mm\u001b[38;5;241m+\u001b[39ms, origin\u001b[38;5;241m=\u001b[39m\u001b[38;5;124m'\u001b[39m\u001b[38;5;124mlower\u001b[39m\u001b[38;5;124m'\u001b[39m)\n\u001b[1;32m      3\u001b[0m plt\u001b[38;5;241m.\u001b[39mcolorbar();\n",
      "File \u001b[0;32m/Library/Frameworks/Python.framework/Versions/3.12/lib/python3.12/site-packages/numpy/core/fromnumeric.py:3504\u001b[0m, in \u001b[0;36mmean\u001b[0;34m(a, axis, dtype, out, keepdims, where)\u001b[0m\n\u001b[1;32m   3501\u001b[0m     \u001b[38;5;28;01melse\u001b[39;00m:\n\u001b[1;32m   3502\u001b[0m         \u001b[38;5;28;01mreturn\u001b[39;00m mean(axis\u001b[38;5;241m=\u001b[39maxis, dtype\u001b[38;5;241m=\u001b[39mdtype, out\u001b[38;5;241m=\u001b[39mout, \u001b[38;5;241m*\u001b[39m\u001b[38;5;241m*\u001b[39mkwargs)\n\u001b[0;32m-> 3504\u001b[0m \u001b[38;5;28;01mreturn\u001b[39;00m \u001b[43m_methods\u001b[49m\u001b[38;5;241;43m.\u001b[39;49m\u001b[43m_mean\u001b[49m\u001b[43m(\u001b[49m\u001b[43ma\u001b[49m\u001b[43m,\u001b[49m\u001b[43m \u001b[49m\u001b[43maxis\u001b[49m\u001b[38;5;241;43m=\u001b[39;49m\u001b[43maxis\u001b[49m\u001b[43m,\u001b[49m\u001b[43m \u001b[49m\u001b[43mdtype\u001b[49m\u001b[38;5;241;43m=\u001b[39;49m\u001b[43mdtype\u001b[49m\u001b[43m,\u001b[49m\n\u001b[1;32m   3505\u001b[0m \u001b[43m                      \u001b[49m\u001b[43mout\u001b[49m\u001b[38;5;241;43m=\u001b[39;49m\u001b[43mout\u001b[49m\u001b[43m,\u001b[49m\u001b[43m \u001b[49m\u001b[38;5;241;43m*\u001b[39;49m\u001b[38;5;241;43m*\u001b[39;49m\u001b[43mkwargs\u001b[49m\u001b[43m)\u001b[49m\n",
      "File \u001b[0;32m/Library/Frameworks/Python.framework/Versions/3.12/lib/python3.12/site-packages/numpy/core/_methods.py:131\u001b[0m, in \u001b[0;36m_mean\u001b[0;34m(a, axis, dtype, out, keepdims, where)\u001b[0m\n\u001b[1;32m    129\u001b[0m         ret \u001b[38;5;241m=\u001b[39m ret\u001b[38;5;241m.\u001b[39mdtype\u001b[38;5;241m.\u001b[39mtype(ret \u001b[38;5;241m/\u001b[39m rcount)\n\u001b[1;32m    130\u001b[0m \u001b[38;5;28;01melse\u001b[39;00m:\n\u001b[0;32m--> 131\u001b[0m     ret \u001b[38;5;241m=\u001b[39m \u001b[43mret\u001b[49m\u001b[43m \u001b[49m\u001b[38;5;241;43m/\u001b[39;49m\u001b[43m \u001b[49m\u001b[43mrcount\u001b[49m\n\u001b[1;32m    133\u001b[0m \u001b[38;5;28;01mreturn\u001b[39;00m ret\n",
      "\u001b[0;31mTypeError\u001b[0m: unsupported operand type(s) for /: 'PrimaryHDU' and 'int'"
     ]
    }
   ],
   "source": [
    "m, s = np.mean(data), np.std(data)\n",
    "plt.imshow(data, interpolation = 'nearest', cmap = 'gray', vmin=m-s, vmax=m+s, origin='lower')\n",
    "plt.colorbar();\n",
    "\n",
    "plt.savefig('fits_image.png', bbox_inches='tight')"
   ]
  },
  {
   "cell_type": "markdown",
   "id": "b1bb1b5b-0a04-4847-beff-6770c23d4e3b",
   "metadata": {},
   "source": [
    "##### Data must be background subtracted to allow for source detection. When using SEP, background estimation and source detection are two separate steps.\n",
    "### Background subtraction"
   ]
  },
  {
   "cell_type": "markdown",
   "id": "c1bd1d54-8151-4110-a79f-229df0e52c96",
   "metadata": {},
   "source": [
    "Set bkg equal to the measure of the spatially variable background and noise on our image:"
   ]
  },
  {
   "cell_type": "code",
   "execution_count": null,
   "id": "9070fbcb-1dfc-4bc7-8100-e4550d320d5d",
   "metadata": {},
   "outputs": [],
   "source": [
    "bkg = sep.Background(data)"
   ]
  },
  {
   "cell_type": "markdown",
   "id": "ebdac030-867a-4d1a-8ac5-7f0c93889059",
   "metadata": {},
   "source": [
    "Using bkg, print the values of the global background level (globalback), and the global background RMS (globalrms):"
   ]
  },
  {
   "cell_type": "code",
   "execution_count": null,
   "id": "e850200e-d960-4bf9-90ae-0baa6f952408",
   "metadata": {},
   "outputs": [],
   "source": [
    "print(bkg.globalback)\n",
    "print(bkg.globalrms)"
   ]
  },
  {
   "cell_type": "markdown",
   "id": "a3d6657a-fee2-4aa1-8834-d4aee64f2883",
   "metadata": {},
   "source": [
    "Evaluate the **background** as a 2d array, and make it the same size as the original image:"
   ]
  },
  {
   "cell_type": "code",
   "execution_count": null,
   "id": "048b5e2e-a882-4da7-b953-074373868323",
   "metadata": {},
   "outputs": [],
   "source": [
    "bkg_image = np.array(bkg)"
   ]
  },
  {
   "cell_type": "markdown",
   "id": "6db6bd11-52d0-4243-bd5f-f1ea2363c557",
   "metadata": {},
   "source": [
    "Now, show the **background**:"
   ]
  },
  {
   "cell_type": "code",
   "execution_count": null,
   "id": "36b671aa-7fea-41bd-ba70-d18e1032ec93",
   "metadata": {},
   "outputs": [],
   "source": [
    "plt.imshow(bkg_image, interpolation = 'nearest', cmap = 'gray', origin = 'lower')\n",
    "plt.colorbar();\n",
    "\n",
    "plt.savefig('bkg_image.png', bbox_inches='tight')"
   ]
  },
  {
   "cell_type": "markdown",
   "id": "86e9d173-1446-4dd5-b1bd-b5a51924a706",
   "metadata": {},
   "source": [
    "Evaluate the **background noise** as a 2d array, and make it the same size as the original image:"
   ]
  },
  {
   "cell_type": "code",
   "execution_count": null,
   "id": "a15d0e26-b9a2-4bf1-b6c8-8d100e066623",
   "metadata": {},
   "outputs": [],
   "source": [
    "bkg_rms = bkg.rms()"
   ]
  },
  {
   "cell_type": "markdown",
   "id": "7fb4fef0-2fdc-4704-9282-9dca5a800aa7",
   "metadata": {},
   "source": [
    "Now, show the **background noise**:"
   ]
  },
  {
   "cell_type": "code",
   "execution_count": null,
   "id": "4d923f31-f739-4b57-850c-39eb6589290a",
   "metadata": {},
   "outputs": [],
   "source": [
    "plt.imshow(bkg_rms, interpolation = \"nearest\", cmap = 'gray', origin = 'lower')\n",
    "plt.colorbar();\n",
    "\n",
    "plt.savefig('bkg_rms_image.png', bbox_inches='tight')"
   ]
  },
  {
   "cell_type": "markdown",
   "id": "e46c92c8-7f53-4a07-8ced-74683a7f2ac4",
   "metadata": {},
   "source": [
    "Subrtact the background variability from the data:"
   ]
  },
  {
   "cell_type": "code",
   "execution_count": null,
   "id": "0e15b4c4-5f68-4a01-8826-47fbfdc8f33c",
   "metadata": {},
   "outputs": [],
   "source": [
    "data_sub = data - bkg"
   ]
  },
  {
   "cell_type": "markdown",
   "id": "e92f480e-6a57-4dc8-ad45-3c1f197e31e6",
   "metadata": {},
   "source": [
    "##### Now that we have subtracted the background, we can run object detection on the background subtracted data.\n",
    "### Object Detection"
   ]
  },
  {
   "cell_type": "markdown",
   "id": "4d45901e-4779-4d68-9978-80bd4a96c26f",
   "metadata": {},
   "source": [
    "Set the detection threshold to be a constant value of 1.5$\\sigma$, where $\\sigma$ is the global background RMS:"
   ]
  },
  {
   "cell_type": "code",
   "execution_count": null,
   "id": "aa734dbf-fa91-4229-8edf-96d25dbe91ae",
   "metadata": {},
   "outputs": [],
   "source": [
    "objects = sep.extract(data_sub, 1.5, err=bkg.globalrms)"
   ]
  },
  {
   "cell_type": "markdown",
   "id": "99c3e05c-59db-4dea-a32f-c5882ba30e5c",
   "metadata": {},
   "source": [
    "How many objects were detected?"
   ]
  },
  {
   "cell_type": "code",
   "execution_count": null,
   "id": "71821440-c58c-4366-9bf9-7a80a73ab14f",
   "metadata": {},
   "outputs": [],
   "source": [
    "len(objects)"
   ]
  },
  {
   "cell_type": "markdown",
   "id": "273622ff-45d2-428a-963f-ae66a056a545",
   "metadata": {},
   "source": [
    "Now, lets use objects['x'] and objects['y'] to find the center points of detected objects, and plot over those coordinates with shapes to highlight their position:"
   ]
  },
  {
   "cell_type": "code",
   "execution_count": null,
   "id": "37693167-a58d-469b-b50a-681e4b290c20",
   "metadata": {},
   "outputs": [],
   "source": [
    "from matplotlib.patches import Ellipse"
   ]
  },
  {
   "cell_type": "markdown",
   "id": "fad46379-2a4b-48f9-a46f-4450be943843",
   "metadata": {},
   "source": [
    "First, plot the background subtracted image (like we did before, but using 'data_sub' instead of 'data').\n",
    "Then, plot an ellipse for each detected object:"
   ]
  },
  {
   "cell_type": "code",
   "execution_count": null,
   "id": "8cc7858a-b040-406d-bc70-1a9a7ab5663e",
   "metadata": {},
   "outputs": [],
   "source": [
    "fig, ax = plt.subplots()\n",
    "m, s = np.mean(data_sub), np.std(data_sub)\n",
    "im = ax.imshow(data_sub, interpolation='nearest', cmap='gray', vmin=m-s, vmax=m+s, origin='lower')\n",
    "\n",
    "for i in range (len(objects)):\n",
    "    e = Ellipse(xy=(objects['x'][i], objects['y'][i]),\n",
    "                width = 6*objects['a'][i],\n",
    "                height = 6*objects['b'][i],\n",
    "                angle = objects['theta'][i] * 180.0 / np.pi)\n",
    "    e.set_facecolor('none')\n",
    "    e.set_edgecolor('red')\n",
    "    ax.add_artist(e)\n",
    "\n",
    "plt.savefig('object_detection.png', bbox_inches='tight')"
   ]
  },
  {
   "cell_type": "markdown",
   "id": "c564b86a-3090-4687-b3f1-5c86e4a49f31",
   "metadata": {},
   "source": [
    "### Aperture photometry\n",
    "Lastly, we’ll perform simple circular aperture photometry with a 3 pixel radius at the locations of the objects:"
   ]
  },
  {
   "cell_type": "code",
   "execution_count": null,
   "id": "3618c0e4-c938-48bd-a3b4-c18e309b96a9",
   "metadata": {},
   "outputs": [],
   "source": [
    "flux, fluxerr, flag = sep.sum_circle(data_sub, objects['x'], objects['y'], 3.0, err = bkg.globalrms, gain = 1)"
   ]
  },
  {
   "cell_type": "markdown",
   "id": "ff720186-554f-4293-a460-93e21830f9f6",
   "metadata": {},
   "source": [
    "Show the results for the first 10 objects:"
   ]
  },
  {
   "cell_type": "code",
   "execution_count": null,
   "id": "d9c59720-1017-488f-86b0-0cb8240fe542",
   "metadata": {},
   "outputs": [],
   "source": [
    "for i in range(10):\n",
    "    print('object {:d}: flux = {:f} +/- {:f}'.format(i, flux[i], fluxerr[i]))"
   ]
  }
 ],
 "metadata": {
  "kernelspec": {
   "display_name": "Python 3 (ipykernel)",
   "language": "python",
   "name": "python3"
  },
  "language_info": {
   "codemirror_mode": {
    "name": "ipython",
    "version": 3
   },
   "file_extension": ".py",
   "mimetype": "text/x-python",
   "name": "python",
   "nbconvert_exporter": "python",
   "pygments_lexer": "ipython3",
   "version": "3.12.1"
  }
 },
 "nbformat": 4,
 "nbformat_minor": 5
}
